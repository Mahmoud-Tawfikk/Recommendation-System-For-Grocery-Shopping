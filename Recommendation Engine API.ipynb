{
 "cells": [
  {
   "cell_type": "code",
   "execution_count": null,
   "metadata": {},
   "outputs": [],
   "source": [
    "from flask import Flask,jsonify,request\n",
    "from flaskext.mysql import MySQL\n",
    "\n",
    "app = Flask(__name__)\n",
    "\n",
    "mysql = MySQL()\n",
    "\n",
    "class Database:\n",
    "    def __init__(self):\n",
    "        app.config['MYSQL_DATABASE_USER'] = 'USERNAME'\n",
    "        app.config['MYSQL_DATABASE_PASSWORD'] = 'DB PASSWORD'\n",
    "        app.config['MYSQL_DATABASE_DB'] = 'username$DB_NAME'\n",
    "        app.config['MYSQL_DATABASE_HOST'] = 'HOST URL'\n",
    "        mysql.init_app(app)\n",
    "        self.conn = mysql.connect()\n",
    "        self.cursor = self.conn.cursor()\n",
    "\n",
    "    def list_items(self):\n",
    "        self.cursor.execute(\"SELECT itemA FROM rules LIMIT 30\")\n",
    "        result = self.cursor.fetchall()\n",
    "        data = {\"data\":result}\n",
    "        return jsonify(data)\n",
    "\n",
    "    def get_recommendation_items(self,selected_item,no_items):\n",
    "        self.cursor.execute(\"SELECT itemB FROM rules WHERE itemA = '\"+selected_item+\"' ORDER BY lift DESC LIMIT \"+no_items+\"\")\n",
    "        result = self.cursor.fetchall()\n",
    "        data = {\"data\":result}\n",
    "        return jsonify(data)\n",
    "\n",
    "@app.route('/all_items', methods=[\"GET\", \"POST\"])\n",
    "def index():\n",
    "    db = Database()\n",
    "    result = db.list_items()\n",
    "    return result\n",
    "\n",
    "@app.route('/get_recommendation', methods=[\"GET\", \"POST\"])\n",
    "def make_recommendation():\n",
    "    selectedItem = request.form['selectedItem']\n",
    "    noOfItems = request.form['noOfItems']\n",
    "    db2 = Database()\n",
    "    item_result = db2.get_recommendation_items(selectedItem,noOfItems)\n",
    "    return item_result\n",
    "\n",
    "if __name__ == '__main__':\n",
    "\tapp.run()"
   ]
  }
 ],
 "metadata": {
  "kernelspec": {
   "display_name": "Python 3",
   "language": "python",
   "name": "python3"
  },
  "language_info": {
   "codemirror_mode": {
    "name": "ipython",
    "version": 3
   },
   "file_extension": ".py",
   "mimetype": "text/x-python",
   "name": "python",
   "nbconvert_exporter": "python",
   "pygments_lexer": "ipython3",
   "version": "3.7.1"
  }
 },
 "nbformat": 4,
 "nbformat_minor": 2
}
